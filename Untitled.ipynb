{
 "cells": [
  {
   "cell_type": "markdown",
   "metadata": {},
   "source": [
    "## Imports"
   ]
  },
  {
   "cell_type": "code",
   "execution_count": 231,
   "metadata": {},
   "outputs": [],
   "source": [
    "import pandas as pd\n",
    "import numpy as np\n",
    "from sklearn.model_selection import train_test_split, cross_val_score, GridSearchCV\n",
    "from sklearn.preprocessing import StandardScaler, PolynomialFeatures\n",
    "from sklearn import metrics\n",
    "import matplotlib.pyplot as plt\n",
    "import seaborn as sns\n",
    "from sklearn.linear_model import LinearRegression, Lasso, Ridge\n",
    "from sklearn.metrics import mean_squared_error, r2_score\n",
    "from sklearn.linear_model import LogisticRegression\n",
    "\n",
    "from sklearn.neighbors import KNeighborsClassifier\n",
    "from sklearn.pipeline import Pipeline\n",
    "\n",
    "%matplotlib inline"
   ]
  },
  {
   "cell_type": "code",
   "execution_count": 491,
   "metadata": {},
   "outputs": [],
   "source": [
    "# Importing the Breast Cancer Data Set from cBIOPortal\n",
    "# http://www.cbioportal.org/study/clinicalData?id=brca_metabric\n",
    "\n",
    "df = pd.read_csv('brca_metabric_clinical_data (1).tsv', sep='\\t')"
   ]
  },
  {
   "cell_type": "code",
   "execution_count": 492,
   "metadata": {},
   "outputs": [
    {
     "data": {
      "text/plain": [
       "(2509, 35)"
      ]
     },
     "execution_count": 492,
     "metadata": {},
     "output_type": "execute_result"
    }
   ],
   "source": [
    "df.shape"
   ]
  },
  {
   "cell_type": "markdown",
   "metadata": {},
   "source": [
    "## EDA"
   ]
  },
  {
   "cell_type": "code",
   "execution_count": 493,
   "metadata": {},
   "outputs": [],
   "source": [
    "# Change the missing values to None. No surgery was perfomed \n",
    "df['Type of Breast Surgery'].fillna('None', inplace = True)"
   ]
  },
  {
   "cell_type": "code",
   "execution_count": 494,
   "metadata": {},
   "outputs": [
    {
     "data": {
      "text/plain": [
       "MASTECTOMY           1170\n",
       "BREAST CONSERVING     785\n",
       "None                  554\n",
       "Name: Type of Breast Surgery, dtype: int64"
      ]
     },
     "execution_count": 494,
     "metadata": {},
     "output_type": "execute_result"
    }
   ],
   "source": [
    "df['Type of Breast Surgery'].value_counts()"
   ]
  },
  {
   "cell_type": "code",
   "execution_count": 495,
   "metadata": {},
   "outputs": [],
   "source": [
    "# Create Dummy Columns for 'Type of Breast Surgery'\n",
    "df = pd.get_dummies(df, columns = ['Type of Breast Surgery'], drop_first = True)"
   ]
  },
  {
   "cell_type": "code",
   "execution_count": 496,
   "metadata": {
    "scrolled": true
   },
   "outputs": [
    {
     "data": {
      "text/plain": [
       "Living                  837\n",
       "Died of Disease         646\n",
       "Died of Other Causes    497\n",
       "Name: Patient's Vital Status, dtype: int64"
      ]
     },
     "execution_count": 496,
     "metadata": {},
     "output_type": "execute_result"
    }
   ],
   "source": [
    "df[\"Patient's Vital Status\"].value_counts()"
   ]
  },
  {
   "cell_type": "code",
   "execution_count": 497,
   "metadata": {},
   "outputs": [],
   "source": [
    "# Classify 'Living' and 'Died of Other Causes' as the same (0)\n",
    "# The objective of the model is to attempt to predict survival or death from the disease\n",
    "df['died_survived'] = df[\"Patient's Vital Status\"].map({'Living' : 0, \n",
    "                                                                 'Died of Disease' : 1,\n",
    "                                                                 'Died of Other Causes' : 0})"
   ]
  },
  {
   "cell_type": "code",
   "execution_count": 498,
   "metadata": {},
   "outputs": [
    {
     "data": {
      "text/plain": [
       "0.0    1334\n",
       "1.0     646\n",
       "Name: died_survived, dtype: int64"
      ]
     },
     "execution_count": 498,
     "metadata": {},
     "output_type": "execute_result"
    }
   ],
   "source": [
    "df['died_survived'].value_counts()"
   ]
  },
  {
   "cell_type": "code",
   "execution_count": 499,
   "metadata": {},
   "outputs": [],
   "source": [
    "# Map NO to 0 and yes to 1 for 'Chemotherapy' treatments\n",
    "df['Chemotherapy'].replace({'NO' : 0, 'YES' : 1}, inplace = True)"
   ]
  },
  {
   "cell_type": "code",
   "execution_count": 500,
   "metadata": {},
   "outputs": [
    {
     "data": {
      "text/plain": [
       "0.0    1568\n",
       "1.0     412\n",
       "Name: Chemotherapy, dtype: int64"
      ]
     },
     "execution_count": 500,
     "metadata": {},
     "output_type": "execute_result"
    }
   ],
   "source": [
    "df['Chemotherapy'].value_counts()"
   ]
  },
  {
   "cell_type": "code",
   "execution_count": 501,
   "metadata": {},
   "outputs": [
    {
     "data": {
      "text/plain": [
       "ER+/HER2- Low Prolif     640\n",
       "ER+/HER2- High Prolif    617\n",
       "ER-/HER2-                309\n",
       "HER2+                    198\n",
       "Name: 3-Gene classifier subtype, dtype: int64"
      ]
     },
     "execution_count": 501,
     "metadata": {},
     "output_type": "execute_result"
    }
   ],
   "source": [
    "df['3-Gene classifier subtype'].value_counts()"
   ]
  },
  {
   "cell_type": "code",
   "execution_count": 502,
   "metadata": {},
   "outputs": [],
   "source": [
    "# Create Dummy Variables for the '3-Gende Classifier variable'\n",
    "df = pd.get_dummies(df, columns = ['3-Gene classifier subtype'], drop_first = True)"
   ]
  },
  {
   "cell_type": "code",
   "execution_count": 503,
   "metadata": {},
   "outputs": [
    {
     "data": {
      "text/plain": [
       "LumA           700\n",
       "LumB           475\n",
       "Her2           224\n",
       "claudin-low    218\n",
       "Basal          209\n",
       "Normal         148\n",
       "NC               6\n",
       "Name: Pam50 + Claudin-low subtype, dtype: int64"
      ]
     },
     "execution_count": 503,
     "metadata": {},
     "output_type": "execute_result"
    }
   ],
   "source": [
    "df['Pam50 + Claudin-low subtype'].value_counts()"
   ]
  },
  {
   "cell_type": "code",
   "execution_count": 504,
   "metadata": {},
   "outputs": [],
   "source": [
    "# Create Dummy Variable for 'Pam50 + Claudin-low subtype'\n",
    "df = pd.get_dummies(df, columns = ['Pam50 + Claudin-low subtype'], drop_first = True)"
   ]
  },
  {
   "cell_type": "code",
   "execution_count": 505,
   "metadata": {},
   "outputs": [
    {
     "data": {
      "text/plain": [
       "Negative    1733\n",
       "Positive     247\n",
       "Name: HER2 Status, dtype: int64"
      ]
     },
     "execution_count": 505,
     "metadata": {},
     "output_type": "execute_result"
    }
   ],
   "source": [
    "df['HER2 Status'].value_counts()"
   ]
  },
  {
   "cell_type": "code",
   "execution_count": 506,
   "metadata": {},
   "outputs": [],
   "source": [
    "# Map Negative to 0 and Positive to 1 for 'HER2 Status' treatments\n",
    "df['HER2 Status'].replace({'Negative' : 0, 'Positive' : 1}, inplace = True)"
   ]
  },
  {
   "cell_type": "code",
   "execution_count": 507,
   "metadata": {},
   "outputs": [
    {
     "data": {
      "text/plain": [
       "Positive    1040\n",
       "Negative     940\n",
       "Name: PR Status, dtype: int64"
      ]
     },
     "execution_count": 507,
     "metadata": {},
     "output_type": "execute_result"
    }
   ],
   "source": [
    "df['PR Status'].value_counts()"
   ]
  },
  {
   "cell_type": "code",
   "execution_count": 508,
   "metadata": {},
   "outputs": [],
   "source": [
    "# Map Negative to 0 and Positive to 1 for 'PR Status' treatments\n",
    "df['PR Status'].replace({'Negative' : 0, 'Positive' : 1}, inplace = True)"
   ]
  },
  {
   "cell_type": "markdown",
   "metadata": {},
   "source": [
    "## Dropped Columns\n",
    "Columns dropped due to low correlation (<= 0.10) with target variable survived. Dropping these columns is an attempt to minimize the ammount of rows needed to be dropped due to NaNs"
   ]
  },
  {
   "cell_type": "code",
   "execution_count": 509,
   "metadata": {},
   "outputs": [],
   "source": [
    "# Drop 'Integrative Cluster' from DataFrame because low correlation (< 0.01) to survival\n",
    "df.drop(columns = ['Integrative Cluster'], inplace = True)"
   ]
  },
  {
   "cell_type": "code",
   "execution_count": 510,
   "metadata": {},
   "outputs": [],
   "source": [
    "# Drop 'Cellularity' from DataFrame because low correlation (< 0.01) to survival\n",
    "df.drop(columns = ['Cellularity'], inplace = True)"
   ]
  },
  {
   "cell_type": "code",
   "execution_count": 511,
   "metadata": {},
   "outputs": [],
   "source": [
    "# Drop 'Mutation Count' from DataFrame because low correlation (< 0.01) to survival\n",
    "df.drop(columns = ['Mutation Count'], inplace = True)"
   ]
  },
  {
   "cell_type": "code",
   "execution_count": 512,
   "metadata": {},
   "outputs": [],
   "source": [
    "# Drop 'Cancer Type Detailed' from Dataframe because low correlation (< 0.05) to survival\n",
    "df.drop(columns = ['Cancer Type Detailed'], inplace = True)"
   ]
  },
  {
   "cell_type": "code",
   "execution_count": 513,
   "metadata": {},
   "outputs": [],
   "source": [
    "# Drop 'Primary Tumor Laterality' from Dataframe because low correlation (< 0.05) to survival\n",
    "df.drop(columns = ['Primary Tumor Laterality'], inplace = True)"
   ]
  },
  {
   "cell_type": "code",
   "execution_count": 514,
   "metadata": {},
   "outputs": [],
   "source": [
    "# Drop 'ER Status' from Dataframe because low correlation (= 0.10) to survival\n",
    "df.drop(columns = ['ER Status'], inplace = True)"
   ]
  },
  {
   "cell_type": "code",
   "execution_count": 515,
   "metadata": {},
   "outputs": [],
   "source": [
    "# Drop 'ER status measured by IHC' from Dataframe because low correlation (= 0.10) to survival\n",
    "df.drop(columns = ['ER status measured by IHC'], inplace = True)"
   ]
  },
  {
   "cell_type": "code",
   "execution_count": 516,
   "metadata": {},
   "outputs": [],
   "source": [
    "# Drop 'Cohort' from Dataframe because low correlation (< 0.01) to survival\n",
    "df.drop(columns = ['Cohort'], inplace = True)"
   ]
  },
  {
   "cell_type": "code",
   "execution_count": 517,
   "metadata": {},
   "outputs": [],
   "source": [
    "# Drop 'HER2 status measured by SNP6' from Dataframe because low correlation (< 0.1) to survival\n",
    "df.drop(columns = ['HER2 status measured by SNP6'], inplace = True)"
   ]
  },
  {
   "cell_type": "code",
   "execution_count": 518,
   "metadata": {},
   "outputs": [],
   "source": [
    "# Drop 'Age at Diagnosis' from Dataframe because low correlation (< 0.05) to survival\n",
    "df.drop(columns = ['Age at Diagnosis'], inplace = True)"
   ]
  },
  {
   "cell_type": "code",
   "execution_count": 519,
   "metadata": {},
   "outputs": [],
   "source": [
    "# Drop 'Tumor Other Histologic Subtype' from Dataframe because low correlation (< 0.10) to survival\n",
    "df.drop(columns = ['Tumor Other Histologic Subtype'], inplace = True)"
   ]
  },
  {
   "cell_type": "code",
   "execution_count": 520,
   "metadata": {},
   "outputs": [],
   "source": [
    "# Drop 'Hormone Therapy' from Dataframe because low correlation (< 0.05) to survival\n",
    "df.drop(columns = ['Hormone Therapy'], inplace = True)"
   ]
  },
  {
   "cell_type": "code",
   "execution_count": 521,
   "metadata": {},
   "outputs": [],
   "source": [
    "# Drop 'Inferred Menopausal State' from Dataframe because low correlation (< 0.05) to survival\n",
    "df.drop(columns = ['Inferred Menopausal State'], inplace = True)"
   ]
  },
  {
   "cell_type": "code",
   "execution_count": 522,
   "metadata": {},
   "outputs": [],
   "source": [
    "# Drop Overall Survival Status from Dataframe because model is using Patient's Vital Status for y variable\n",
    "df.drop(columns = ['Overall Survival Status'], inplace = True)"
   ]
  },
  {
   "cell_type": "code",
   "execution_count": 523,
   "metadata": {},
   "outputs": [],
   "source": [
    "# Drop 'Oncotree Code' from Dataframe because low correlation (< 0.05) to survival\n",
    "df.drop(columns = ['Oncotree Code'], inplace = True)"
   ]
  },
  {
   "cell_type": "code",
   "execution_count": 524,
   "metadata": {},
   "outputs": [],
   "source": [
    "# Drop 'Overall Survival (Months)' from Dataframe because co-linearity with Survival y variable\n",
    "df.drop(columns = ['Overall Survival (Months)'], inplace = True)"
   ]
  },
  {
   "cell_type": "code",
   "execution_count": 525,
   "metadata": {},
   "outputs": [],
   "source": [
    "# Drop 'Radio Therapy' from Dataframe because low correlation (< 0.05) to survival\n",
    "df.drop(columns = ['Radio Therapy'], inplace = True)"
   ]
  },
  {
   "cell_type": "code",
   "execution_count": 531,
   "metadata": {},
   "outputs": [],
   "source": [
    "# Drop 'Number of Samples Per Patient' from Dataframe because all patients had 1 sample\n",
    "df.drop(columns = ['Number of Samples Per Patient'], inplace = True)"
   ]
  },
  {
   "cell_type": "code",
   "execution_count": 536,
   "metadata": {},
   "outputs": [],
   "source": [
    "# Drop 'Sample Type' from Dataframe because all patients had same sample type 'Primary'\n",
    "df.drop(columns = ['Sample Type'], inplace = True)"
   ]
  },
  {
   "cell_type": "code",
   "execution_count": 537,
   "metadata": {
    "scrolled": true
   },
   "outputs": [
    {
     "data": {
      "text/plain": [
       "Study ID                                            0\n",
       "Patient ID                                          0\n",
       "Sample ID                                           0\n",
       "Cancer Type                                         0\n",
       "Chemotherapy                                      529\n",
       "Neoplasm Histologic Grade                         121\n",
       "HER2 Status                                       529\n",
       "Lymph nodes examined positive                     266\n",
       "Nottingham prognostic index                       222\n",
       "PR Status                                         529\n",
       "Tumor Size                                        149\n",
       "Tumor Stage                                       721\n",
       "Patient's Vital Status                            529\n",
       "Type of Breast Surgery_MASTECTOMY                   0\n",
       "Type of Breast Surgery_None                         0\n",
       "died_survived                                     529\n",
       "3-Gene classifier subtype_ER+/HER2- Low Prolif      0\n",
       "3-Gene classifier subtype_ER-/HER2-                 0\n",
       "3-Gene classifier subtype_HER2+                     0\n",
       "Pam50 + Claudin-low subtype_Her2                    0\n",
       "Pam50 + Claudin-low subtype_LumA                    0\n",
       "Pam50 + Claudin-low subtype_LumB                    0\n",
       "Pam50 + Claudin-low subtype_NC                      0\n",
       "Pam50 + Claudin-low subtype_Normal                  0\n",
       "Pam50 + Claudin-low subtype_claudin-low             0\n",
       "dtype: int64"
      ]
     },
     "execution_count": 537,
     "metadata": {},
     "output_type": "execute_result"
    }
   ],
   "source": [
    "df.isnull().sum()"
   ]
  },
  {
   "cell_type": "code",
   "execution_count": 538,
   "metadata": {},
   "outputs": [
    {
     "data": {
      "text/plain": [
       "(2509, 25)"
      ]
     },
     "execution_count": 538,
     "metadata": {},
     "output_type": "execute_result"
    }
   ],
   "source": [
    "df.shape"
   ]
  },
  {
   "cell_type": "code",
   "execution_count": 540,
   "metadata": {},
   "outputs": [],
   "source": [
    "# Drop NaNs\n",
    "df.dropna(inplace = True)"
   ]
  },
  {
   "cell_type": "code",
   "execution_count": 542,
   "metadata": {},
   "outputs": [
    {
     "data": {
      "text/plain": [
       "(1353, 25)"
      ]
     },
     "execution_count": 542,
     "metadata": {},
     "output_type": "execute_result"
    }
   ],
   "source": [
    "df.shape"
   ]
  },
  {
   "cell_type": "markdown",
   "metadata": {},
   "source": [
    "## Correlation Review"
   ]
  },
  {
   "cell_type": "code",
   "execution_count": 543,
   "metadata": {},
   "outputs": [
    {
     "data": {
      "image/png": "[encoded data removed]",
      "text/plain": [
       "<Figure size 576x864 with 2 Axes>"
      ]
     },
     "metadata": {
      "needs_background": "light"
     },
     "output_type": "display_data"
    }
   ],
   "source": [
    "# Create a correlation heatmap\n",
    "plt.figure(figsize = (8, 12))\n",
    "\n",
    "sns.heatmap(df.corr()[[\"died_survived\"]].sort_values(\"died_survived\", ascending = False),\n",
    "            annot = True, \n",
    "            cmap = 'coolwarm', \n",
    "            vmin = -1, vmax = 1);"
   ]
  },
  {
   "cell_type": "markdown",
   "metadata": {},
   "source": [
    "## Feature Engineering"
   ]
  },
  {
   "cell_type": "code",
   "execution_count": null,
   "metadata": {},
   "outputs": [],
   "source": []
  }
 ],
 "metadata": {
  "kernelspec": {
   "display_name": "Python 3",
   "language": "python",
   "name": "python3"
  },
  "language_info": {
   "codemirror_mode": {
    "name": "ipython",
    "version": 3
   },
   "file_extension": ".py",
   "mimetype": "text/x-python",
   "name": "python",
   "nbconvert_exporter": "python",
   "pygments_lexer": "ipython3",
   "version": "3.7.3"
  }
 },
 "nbformat": 4,
 "nbformat_minor": 2
}
