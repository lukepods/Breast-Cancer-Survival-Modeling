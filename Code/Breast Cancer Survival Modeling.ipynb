{
 "cells": [
  {
   "cell_type": "markdown",
   "metadata": {
    "toc": true
   },
   "source": [
    "<h1>Table of Contents<span class=\"tocSkip\"></span></h1>\n",
    "<div class=\"toc\"><ul class=\"toc-item\"><li><span><a href=\"#Breast-Cancer-Survival-Modeling\" data-toc-modified-id=\"Breast-Cancer-Survival-Modeling-1\"><span class=\"toc-item-num\">1&nbsp;&nbsp;</span>Breast Cancer Survival Modeling</a></span><ul class=\"toc-item\"><li><span><a href=\"#Imports\" data-toc-modified-id=\"Imports-1.1\"><span class=\"toc-item-num\">1.1&nbsp;&nbsp;</span>Imports</a></span></li></ul></li><li><span><a href=\"#EDA\" data-toc-modified-id=\"EDA-2\"><span class=\"toc-item-num\">2&nbsp;&nbsp;</span>EDA</a></span><ul class=\"toc-item\"><li><span><a href=\"#Dropped-Columns\" data-toc-modified-id=\"Dropped-Columns-2.1\"><span class=\"toc-item-num\">2.1&nbsp;&nbsp;</span>Dropped Columns</a></span></li><li><span><a href=\"#Correlation-Review\" data-toc-modified-id=\"Correlation-Review-2.2\"><span class=\"toc-item-num\">2.2&nbsp;&nbsp;</span>Correlation Review</a></span></li><li><span><a href=\"#Polynomial-Features\" data-toc-modified-id=\"Polynomial-Features-2.3\"><span class=\"toc-item-num\">2.3&nbsp;&nbsp;</span>Polynomial Features</a></span></li><li><span><a href=\"#Ridge-Regression\" data-toc-modified-id=\"Ridge-Regression-2.4\"><span class=\"toc-item-num\">2.4&nbsp;&nbsp;</span>Ridge Regression</a></span></li><li><span><a href=\"#Feature-Engineering\" data-toc-modified-id=\"Feature-Engineering-2.5\"><span class=\"toc-item-num\">2.5&nbsp;&nbsp;</span>Feature Engineering</a></span></li></ul></li><li><span><a href=\"#Modeling\" data-toc-modified-id=\"Modeling-3\"><span class=\"toc-item-num\">3&nbsp;&nbsp;</span>Modeling</a></span><ul class=\"toc-item\"><li><span><a href=\"#Initial-Setup\" data-toc-modified-id=\"Initial-Setup-3.1\"><span class=\"toc-item-num\">3.1&nbsp;&nbsp;</span>Initial Setup</a></span></li><li><span><a href=\"#Logistic-Regression-Modeling\" data-toc-modified-id=\"Logistic-Regression-Modeling-3.2\"><span class=\"toc-item-num\">3.2&nbsp;&nbsp;</span>Logistic Regression Modeling</a></span></li><li><span><a href=\"#LR-Performance-Analysis\" data-toc-modified-id=\"LR-Performance-Analysis-3.3\"><span class=\"toc-item-num\">3.3&nbsp;&nbsp;</span>LR Performance Analysis</a></span></li><li><span><a href=\"#KNN-Model\" data-toc-modified-id=\"KNN-Model-3.4\"><span class=\"toc-item-num\">3.4&nbsp;&nbsp;</span>KNN Model</a></span></li><li><span><a href=\"#KNN-Performance-Analysis\" data-toc-modified-id=\"KNN-Performance-Analysis-3.5\"><span class=\"toc-item-num\">3.5&nbsp;&nbsp;</span>KNN Performance Analysis</a></span></li><li><span><a href=\"#Random-Forrest-Classifier-Model\" data-toc-modified-id=\"Random-Forrest-Classifier-Model-3.6\"><span class=\"toc-item-num\">3.6&nbsp;&nbsp;</span>Random Forrest Classifier Model</a></span></li><li><span><a href=\"#Random-Forrest-Classifier-Performance-Analysis\" data-toc-modified-id=\"Random-Forrest-Classifier-Performance-Analysis-3.7\"><span class=\"toc-item-num\">3.7&nbsp;&nbsp;</span>Random Forrest Classifier Performance Analysis</a></span></li><li><span><a href=\"#Support-Vector-Classifier-Model\" data-toc-modified-id=\"Support-Vector-Classifier-Model-3.8\"><span class=\"toc-item-num\">3.8&nbsp;&nbsp;</span>Support Vector Classifier Model</a></span></li><li><span><a href=\"#Support-Vector-Classification-Perfomance-Analysis\" data-toc-modified-id=\"Support-Vector-Classification-Perfomance-Analysis-3.9\"><span class=\"toc-item-num\">3.9&nbsp;&nbsp;</span>Support Vector Classification Perfomance Analysis</a></span></li><li><span><a href=\"#Decsion-Tree-Modeling\" data-toc-modified-id=\"Decsion-Tree-Modeling-3.10\"><span class=\"toc-item-num\">3.10&nbsp;&nbsp;</span>Decsion Tree Modeling</a></span></li><li><span><a href=\"#Decision-Tree-Perfomance-Accuracy\" data-toc-modified-id=\"Decision-Tree-Perfomance-Accuracy-3.11\"><span class=\"toc-item-num\">3.11&nbsp;&nbsp;</span>Decision Tree Perfomance Accuracy</a></span></li><li><span><a href=\"#Bagging-Classifier-Modeling\" data-toc-modified-id=\"Bagging-Classifier-Modeling-3.12\"><span class=\"toc-item-num\">3.12&nbsp;&nbsp;</span>Bagging Classifier Modeling</a></span></li><li><span><a href=\"#Bagging-Classifier-Performance-Analysis\" data-toc-modified-id=\"Bagging-Classifier-Performance-Analysis-3.13\"><span class=\"toc-item-num\">3.13&nbsp;&nbsp;</span>Bagging Classifier Performance Analysis</a></span></li><li><span><a href=\"#AdaBoost-Modeling\" data-toc-modified-id=\"AdaBoost-Modeling-3.14\"><span class=\"toc-item-num\">3.14&nbsp;&nbsp;</span>AdaBoost Modeling</a></span></li><li><span><a href=\"#AdaBoost-Perfromance-Analysis\" data-toc-modified-id=\"AdaBoost-Perfromance-Analysis-3.15\"><span class=\"toc-item-num\">3.15&nbsp;&nbsp;</span>AdaBoost Perfromance Analysis</a></span></li><li><span><a href=\"#Neural-Network\" data-toc-modified-id=\"Neural-Network-3.16\"><span class=\"toc-item-num\">3.16&nbsp;&nbsp;</span>Neural Network</a></span></li></ul></li></ul></div>"
   ]
  },
  {
   "cell_type": "markdown",
   "metadata": {},
   "source": [
    "# Breast Cancer Survival Modeling"
   ]
  },
  {
   "cell_type": "markdown",
   "metadata": {},
   "source": [
    "## Imports"
   ]
  },
  {
   "cell_type": "code",
   "execution_count": 1,
   "metadata": {},
   "outputs": [
    {
     "name": "stderr",
     "output_type": "stream",
     "text": [
      "/Users/lucaspodsiadlo/anaconda3/lib/python3.7/site-packages/statsmodels/tools/_testing.py:19: FutureWarning: pandas.util.testing is deprecated. Use the functions in the public API at pandas.testing instead.\n",
      "  import pandas.util.testing as tm\n"
     ]
    }
   ],
   "source": [
    "import pandas as pd\n",
    "import numpy as np\n",
    "from sklearn.model_selection import train_test_split, cross_val_score, GridSearchCV\n",
    "from sklearn.preprocessing import StandardScaler, PolynomialFeatures\n",
    "from sklearn import metrics\n",
    "import matplotlib.pyplot as plt\n",
    "import seaborn as sns\n",
    "from sklearn.linear_model import LinearRegression, Lasso, Ridge\n",
    "from sklearn.metrics import mean_squared_error, r2_score\n",
    "from sklearn.linear_model import LogisticRegression\n",
    "from sklearn.tree import DecisionTreeClassifier\n",
    "from sklearn.ensemble import BaggingClassifier, RandomForestClassifier, AdaBoostClassifier\n",
    "from sklearn.svm import SVC\n",
    "\n",
    "from tensorflow.keras.models import Sequential\n",
    "from tensorflow.keras.layers import Dense\n",
    "\n",
    "from sklearn.neighbors import KNeighborsClassifier\n",
    "from sklearn.pipeline import Pipeline\n",
    "from sklearn.metrics import f1_score as f1\n",
    "from sklearn.metrics import confusion_matrix\n",
    "from sklearn.metrics import roc_auc_score\n",
    "\n",
    "%matplotlib inline"
   ]
  },
  {
   "cell_type": "code",
   "execution_count": 2,
   "metadata": {},
   "outputs": [],
   "source": [
    "# Importing the Breast Cancer Data Set from cBIOPortal\n",
    "# http://www.cbioportal.org/study/clinicalData?id=brca_metabric\n",
    "\n",
    "df = pd.read_csv('../Data/brca_metabric_clinical_data (1).tsv', sep='\\t')"
   ]
  },
  {
   "cell_type": "code",
   "execution_count": 3,
   "metadata": {},
   "outputs": [
    {
     "data": {
      "text/plain": [
       "(2509, 35)"
      ]
     },
     "execution_count": 3,
     "metadata": {},
     "output_type": "execute_result"
    }
   ],
   "source": [
    "df.shape"
   ]
  },
  {
   "cell_type": "code",
   "execution_count": 4,
   "metadata": {},
   "outputs": [
    {
     "data": {
      "text/plain": [
       "Index(['Study ID', 'Patient ID', 'Sample ID', 'Age at Diagnosis',\n",
       "       'Type of Breast Surgery', 'Cancer Type', 'Cancer Type Detailed',\n",
       "       'Cellularity', 'Chemotherapy', 'Pam50 + Claudin-low subtype', 'Cohort',\n",
       "       'ER status measured by IHC', 'ER Status', 'Neoplasm Histologic Grade',\n",
       "       'HER2 status measured by SNP6', 'HER2 Status',\n",
       "       'Tumor Other Histologic Subtype', 'Hormone Therapy',\n",
       "       'Inferred Menopausal State', 'Integrative Cluster',\n",
       "       'Primary Tumor Laterality', 'Lymph nodes examined positive',\n",
       "       'Mutation Count', 'Nottingham prognostic index', 'Oncotree Code',\n",
       "       'Overall Survival (Months)', 'Overall Survival Status', 'PR Status',\n",
       "       'Radio Therapy', 'Number of Samples Per Patient', 'Sample Type',\n",
       "       '3-Gene classifier subtype', 'Tumor Size', 'Tumor Stage',\n",
       "       'Patient's Vital Status'],\n",
       "      dtype='object')"
      ]
     },
     "execution_count": 4,
     "metadata": {},
     "output_type": "execute_result"
    }
   ],
   "source": [
    "df.columns"
   ]
  },
  {
   "cell_type": "markdown",
   "metadata": {},
   "source": [
    "# EDA"
   ]
  },
  {
   "cell_type": "code",
   "execution_count": 5,
   "metadata": {},
   "outputs": [],
   "source": [
    "# Change the missing values to None. No surgery was perfomed \n",
    "df['Type of Breast Surgery'].fillna('None', inplace = True)"
   ]
  },
  {
   "cell_type": "code",
   "execution_count": 6,
   "metadata": {},
   "outputs": [
    {
     "data": {
      "text/plain": [
       "MASTECTOMY           1170\n",
       "BREAST CONSERVING     785\n",
       "None                  554\n",
       "Name: Type of Breast Surgery, dtype: int64"
      ]
     },
     "execution_count": 6,
     "metadata": {},
     "output_type": "execute_result"
    }
   ],
   "source": [
    "df['Type of Breast Surgery'].value_counts()"
   ]
  },
  {
   "cell_type": "code",
   "execution_count": 7,
   "metadata": {},
   "outputs": [],
   "source": [
    "# Create Dummy Columns for 'Type of Breast Surgery'\n",
    "df = pd.get_dummies(df, columns = ['Type of Breast Surgery'], drop_first = True)"
   ]
  },
  {
   "cell_type": "code",
   "execution_count": 8,
   "metadata": {
    "scrolled": true
   },
   "outputs": [
    {
     "data": {
      "text/plain": [
       "Living                  837\n",
       "Died of Disease         646\n",
       "Died of Other Causes    497\n",
       "Name: Patient's Vital Status, dtype: int64"
      ]
     },
     "execution_count": 8,
     "metadata": {},
     "output_type": "execute_result"
    }
   ],
   "source": [
    "df[\"Patient's Vital Status\"].value_counts()"
   ]
  },
  {
   "cell_type": "code",
   "execution_count": 9,
   "metadata": {},
   "outputs": [],
   "source": [
    "# Classify 'Living' and 'Died of Other Causes' as the same (0)\n",
    "# The objective of the model is to attempt to predict survival or death from the disease\n",
    "df['died_survived'] = df[\"Patient's Vital Status\"].map({'Living' : 0, \n",
    "                                                                 'Died of Disease' : 1,\n",
    "                                                                 'Died of Other Causes' : 0})"
   ]
  },
  {
   "cell_type": "code",
   "execution_count": 10,
   "metadata": {},
   "outputs": [
    {
     "data": {
      "text/plain": [
       "0.0    1334\n",
       "1.0     646\n",
       "Name: died_survived, dtype: int64"
      ]
     },
     "execution_count": 10,
     "metadata": {},
     "output_type": "execute_result"
    }
   ],
   "source": [
    "df['died_survived'].value_counts()"
   ]
  },
  {
   "cell_type": "code",
   "execution_count": 11,
   "metadata": {},
   "outputs": [],
   "source": [
    "# Map NO to 0 and yes to 1 for 'Chemotherapy' treatments\n",
    "df['Chemotherapy'].replace({'NO' : 0, 'YES' : 1}, inplace = True)"
   ]
  },
  {
   "cell_type": "code",
   "execution_count": 12,
   "metadata": {},
   "outputs": [
    {
     "data": {
      "text/plain": [
       "0.0    1568\n",
       "1.0     412\n",
       "Name: Chemotherapy, dtype: int64"
      ]
     },
     "execution_count": 12,
     "metadata": {},
     "output_type": "execute_result"
    }
   ],
   "source": [
    "df['Chemotherapy'].value_counts()"
   ]
  },
  {
   "cell_type": "code",
   "execution_count": 13,
   "metadata": {},
   "outputs": [
    {
     "data": {
      "text/plain": [
       "ER+/HER2- Low Prolif     640\n",
       "ER+/HER2- High Prolif    617\n",
       "ER-/HER2-                309\n",
       "HER2+                    198\n",
       "Name: 3-Gene classifier subtype, dtype: int64"
      ]
     },
     "execution_count": 13,
     "metadata": {},
     "output_type": "execute_result"
    }
   ],
   "source": [
    "df['3-Gene classifier subtype'].value_counts()"
   ]
  },
  {
   "cell_type": "code",
   "execution_count": 14,
   "metadata": {},
   "outputs": [],
   "source": [
    "# Create Dummy Variables for the '3-Gende Classifier variable'\n",
    "df = pd.get_dummies(df, columns = ['3-Gene classifier subtype'], drop_first = True)"
   ]
  },
  {
   "cell_type": "code",
   "execution_count": 15,
   "metadata": {},
   "outputs": [
    {
     "data": {
      "text/plain": [
       "LumA           700\n",
       "LumB           475\n",
       "Her2           224\n",
       "claudin-low    218\n",
       "Basal          209\n",
       "Normal         148\n",
       "NC               6\n",
       "Name: Pam50 + Claudin-low subtype, dtype: int64"
      ]
     },
     "execution_count": 15,
     "metadata": {},
     "output_type": "execute_result"
    }
   ],
   "source": [
    "df['Pam50 + Claudin-low subtype'].value_counts()"
   ]
  },
  {
   "cell_type": "code",
   "execution_count": 16,
   "metadata": {},
   "outputs": [],
   "source": [
    "# Create Dummy Variable for 'Pam50 + Claudin-low subtype'\n",
    "df = pd.get_dummies(df, columns = ['Pam50 + Claudin-low subtype'], drop_first = True)"
   ]
  },
  {
   "cell_type": "code",
   "execution_count": 17,
   "metadata": {},
   "outputs": [
    {
     "data": {
      "text/plain": [
       "Negative    1733\n",
       "Positive     247\n",
       "Name: HER2 Status, dtype: int64"
      ]
     },
     "execution_count": 17,
     "metadata": {},
     "output_type": "execute_result"
    }
   ],
   "source": [
    "df['HER2 Status'].value_counts()"
   ]
  },
  {
   "cell_type": "code",
   "execution_count": 18,
   "metadata": {},
   "outputs": [],
   "source": [
    "# Map Negative to 0 and Positive to 1 for 'HER2 Status' treatments\n",
    "df['HER2 Status'].replace({'Negative' : 0, 'Positive' : 1}, inplace = True)"
   ]
  },
  {
   "cell_type": "code",
   "execution_count": 19,
   "metadata": {},
   "outputs": [
    {
     "data": {
      "text/plain": [
       "Positive    1040\n",
       "Negative     940\n",
       "Name: PR Status, dtype: int64"
      ]
     },
     "execution_count": 19,
     "metadata": {},
     "output_type": "execute_result"
    }
   ],
   "source": [
    "df['PR Status'].value_counts()"
   ]
  },
  {
   "cell_type": "code",
   "execution_count": 20,
   "metadata": {},
   "outputs": [],
   "source": [
    "# Map Negative to 0 and Positive to 1 for 'PR Status' treatments\n",
    "df['PR Status'].replace({'Negative' : 0, 'Positive' : 1}, inplace = True)"
   ]
  },
  {
   "cell_type": "markdown",
   "metadata": {},
   "source": [
    "## Dropped Columns\n",
    "Columns dropped due to low correlation (<= 0.10) with target variable survived. Dropping these columns is an attempt to minimize the ammount of rows needed to be dropped due to NaNs"
   ]
  },
  {
   "cell_type": "code",
   "execution_count": 21,
   "metadata": {},
   "outputs": [],
   "source": [
    "# Drop 'Integrative Cluster' from DataFrame because low correlation (< 0.01) to survival\n",
    "df.drop(columns = ['Integrative Cluster'], inplace = True)"
   ]
  },
  {
   "cell_type": "code",
   "execution_count": 22,
   "metadata": {},
   "outputs": [],
   "source": [
    "# Drop 'Cellularity' from DataFrame because low correlation (< 0.01) to survival\n",
    "df.drop(columns = ['Cellularity'], inplace = True)"
   ]
  },
  {
   "cell_type": "code",
   "execution_count": 23,
   "metadata": {},
   "outputs": [],
   "source": [
    "# Drop 'Mutation Count' from DataFrame because low correlation (< 0.01) to survival\n",
    "df.drop(columns = ['Mutation Count'], inplace = True)"
   ]
  },
  {
   "cell_type": "code",
   "execution_count": 24,
   "metadata": {},
   "outputs": [],
   "source": [
    "# Drop 'Cancer Type Detailed' from Dataframe because low correlation (< 0.05) to survival\n",
    "df.drop(columns = ['Cancer Type Detailed'], inplace = True)"
   ]
  },
  {
   "cell_type": "code",
   "execution_count": 25,
   "metadata": {},
   "outputs": [],
   "source": [
    "# Drop 'Primary Tumor Laterality' from Dataframe because low correlation (< 0.05) to survival\n",
    "df.drop(columns = ['Primary Tumor Laterality'], inplace = True)"
   ]
  },
  {
   "cell_type": "code",
   "execution_count": 26,
   "metadata": {},
   "outputs": [],
   "source": [
    "# Drop 'ER Status' from Dataframe because low correlation (= 0.10) to survival\n",
    "df.drop(columns = ['ER Status'], inplace = True)"
   ]
  },
  {
   "cell_type": "code",
   "execution_count": 27,
   "metadata": {},
   "outputs": [],
   "source": [
    "# Drop 'ER status measured by IHC' from Dataframe because low correlation (= 0.10) to survival\n",
    "df.drop(columns = ['ER status measured by IHC'], inplace = True)"
   ]
  },
  {
   "cell_type": "code",
   "execution_count": 28,
   "metadata": {},
   "outputs": [],
   "source": [
    "# Drop 'Cohort' from Dataframe because low correlation (< 0.01) to survival\n",
    "df.drop(columns = ['Cohort'], inplace = True)"
   ]
  },
  {
   "cell_type": "code",
   "execution_count": 29,
   "metadata": {},
   "outputs": [],
   "source": [
    "# Drop 'HER2 status measured by SNP6' from Dataframe because low correlation (< 0.1) to survival\n",
    "df.drop(columns = ['HER2 status measured by SNP6'], inplace = True)"
   ]
  },
  {
   "cell_type": "code",
   "execution_count": 30,
   "metadata": {},
   "outputs": [],
   "source": [
    "# Drop 'Age at Diagnosis' from Dataframe because low correlation (< 0.05) to survival\n",
    "df.drop(columns = ['Age at Diagnosis'], inplace = True)"
   ]
  },
  {
   "cell_type": "code",
   "execution_count": 31,
   "metadata": {},
   "outputs": [],
   "source": [
    "# Drop 'Tumor Other Histologic Subtype' from Dataframe because low correlation (< 0.10) to survival\n",
    "df.drop(columns = ['Tumor Other Histologic Subtype'], inplace = True)"
   ]
  },
  {
   "cell_type": "code",
   "execution_count": 32,
   "metadata": {},
   "outputs": [],
   "source": [
    "# Drop 'Hormone Therapy' from Dataframe because low correlation (< 0.05) to survival\n",
    "df.drop(columns = ['Hormone Therapy'], inplace = True)"
   ]
  },
  {
   "cell_type": "code",
   "execution_count": 33,
   "metadata": {},
   "outputs": [],
   "source": [
    "# Drop 'Inferred Menopausal State' from Dataframe because low correlation (< 0.05) to survival\n",
    "df.drop(columns = ['Inferred Menopausal State'], inplace = True)"
   ]
  },
  {
   "cell_type": "code",
   "execution_count": 34,
   "metadata": {},
   "outputs": [],
   "source": [
    "# Drop Overall Survival Status from Dataframe because model is using Patient's Vital Status for y variable\n",
    "df.drop(columns = ['Overall Survival Status'], inplace = True)"
   ]
  },
  {
   "cell_type": "code",
   "execution_count": 35,
   "metadata": {},
   "outputs": [],
   "source": [
    "# Drop 'Oncotree Code' from Dataframe because low correlation (< 0.05) to survival\n",
    "df.drop(columns = ['Oncotree Code'], inplace = True)"
   ]
  },
  {
   "cell_type": "code",
   "execution_count": 36,
   "metadata": {},
   "outputs": [],
   "source": [
    "# Drop 'Overall Survival (Months)' from Dataframe because co-linearity with Survival y variable\n",
    "df.drop(columns = ['Overall Survival (Months)'], inplace = True)"
   ]
  },
  {
   "cell_type": "code",
   "execution_count": 37,
   "metadata": {},
   "outputs": [],
   "source": [
    "# Drop 'Radio Therapy' from Dataframe because low correlation (< 0.05) to survival\n",
    "df.drop(columns = ['Radio Therapy'], inplace = True)"
   ]
  },
  {
   "cell_type": "code",
   "execution_count": 38,
   "metadata": {},
   "outputs": [],
   "source": [
    "# Drop 'Number of Samples Per Patient' from Dataframe because all patients had 1 sample\n",
    "df.drop(columns = ['Number of Samples Per Patient'], inplace = True)"
   ]
  },
  {
   "cell_type": "code",
   "execution_count": 39,
   "metadata": {},
   "outputs": [],
   "source": [
    "# Drop 'Sample Type' from Dataframe because all patients had same sample type 'Primary'\n",
    "df.drop(columns = ['Sample Type'], inplace = True)"
   ]
  },
  {
   "cell_type": "code",
   "execution_count": 40,
   "metadata": {
    "scrolled": true
   },
   "outputs": [
    {
     "data": {
      "text/plain": [
       "Study ID                                            0\n",
       "Patient ID                                          0\n",
       "Sample ID                                           0\n",
       "Cancer Type                                         0\n",
       "Chemotherapy                                      529\n",
       "Neoplasm Histologic Grade                         121\n",
       "HER2 Status                                       529\n",
       "Lymph nodes examined positive                     266\n",
       "Nottingham prognostic index                       222\n",
       "PR Status                                         529\n",
       "Tumor Size                                        149\n",
       "Tumor Stage                                       721\n",
       "Patient's Vital Status                            529\n",
       "Type of Breast Surgery_MASTECTOMY                   0\n",
       "Type of Breast Surgery_None                         0\n",
       "died_survived                                     529\n",
       "3-Gene classifier subtype_ER+/HER2- Low Prolif      0\n",
       "3-Gene classifier subtype_ER-/HER2-                 0\n",
       "3-Gene classifier subtype_HER2+                     0\n",
       "Pam50 + Claudin-low subtype_Her2                    0\n",
       "Pam50 + Claudin-low subtype_LumA                    0\n",
       "Pam50 + Claudin-low subtype_LumB                    0\n",
       "Pam50 + Claudin-low subtype_NC                      0\n",
       "Pam50 + Claudin-low subtype_Normal                  0\n",
       "Pam50 + Claudin-low subtype_claudin-low             0\n",
       "dtype: int64"
      ]
     },
     "execution_count": 40,
     "metadata": {},
     "output_type": "execute_result"
    }
   ],
   "source": [
    "df.isnull().sum()"
   ]
  },
  {
   "cell_type": "code",
   "execution_count": 41,
   "metadata": {},
   "outputs": [
    {
     "data": {
      "text/plain": [
       "(2509, 25)"
      ]
     },
     "execution_count": 41,
     "metadata": {},
     "output_type": "execute_result"
    }
   ],
   "source": [
    "df.shape"
   ]
  },
  {
   "cell_type": "code",
   "execution_count": 42,
   "metadata": {},
   "outputs": [],
   "source": [
    "# Drop NaNs\n",
    "df.dropna(inplace = True)"
   ]
  },
  {
   "cell_type": "code",
   "execution_count": 43,
   "metadata": {},
   "outputs": [
    {
     "data": {
      "text/plain": [
       "(1353, 25)"
      ]
     },
     "execution_count": 43,
     "metadata": {},
     "output_type": "execute_result"
    }
   ],
   "source": [
    "df.shape"
   ]
  },
  {
   "cell_type": "markdown",
   "metadata": {},
   "source": [
    "## Correlation Review"
   ]
  },
  {
   "cell_type": "code",
   "execution_count": 44,
   "metadata": {},
   "outputs": [
    {
     "data": {
      "image/png": "[encoded data removed]",
      "text/plain": [
       "<Figure size 576x864 with 2 Axes>"
      ]
     },
     "metadata": {
      "needs_background": "light"
     },
     "output_type": "display_data"
    }
   ],
   "source": [
    "# Create a correlation heatmap\n",
    "plt.figure(figsize = (8, 12))\n",
    "\n",
    "sns.heatmap(df.corr()[[\"died_survived\"]].sort_values(\"died_survived\", ascending = False),\n",
    "            annot = True, \n",
    "            cmap = 'coolwarm', \n",
    "            vmin = -1, vmax = 1);"
   ]
  },
  {
   "cell_type": "code",
   "execution_count": 45,
   "metadata": {},
   "outputs": [],
   "source": [
    "df_hcorr = df[['Nottingham prognostic index', 'Lymph nodes examined positive', \n",
    "             'Tumor Stage', 'Tumor Size', 'Neoplasm Histologic Grade', 'died_survived']]"
   ]
  },
  {
   "cell_type": "code",
   "execution_count": 46,
   "metadata": {},
   "outputs": [
    {
     "data": {
      "image/png": "[encoded data removed]",
      "text/plain": [
       "<Figure size 1080x1080 with 42 Axes>"
      ]
     },
     "metadata": {
      "needs_background": "light"
     },
     "output_type": "display_data"
    }
   ],
   "source": [
    "sns.pairplot(df_hcorr);"
   ]
  },
  {
   "cell_type": "code",
   "execution_count": 47,
   "metadata": {},
   "outputs": [],
   "source": [
    "df_lcorr = df[['3-Gene classifier subtype_ER+/HER2- Low Prolif', \n",
    "              'Pam50 + Claudin-low subtype_LumA', 'died_survived']]"
   ]
  },
  {
   "cell_type": "code",
   "execution_count": 48,
   "metadata": {},
   "outputs": [
    {
     "data": {
      "image/png": "[encoded data removed]",
      "text/plain": [
       "<Figure size 540x540 with 12 Axes>"
      ]
     },
     "metadata": {
      "needs_background": "light"
     },
     "output_type": "display_data"
    }
   ],
   "source": [
    "sns.pairplot(df_lcorr);"
   ]
  },
  {
   "cell_type": "markdown",
   "metadata": {},
   "source": [
    "## Polynomial Features"
   ]
  },
  {
   "cell_type": "code",
   "execution_count": 49,
   "metadata": {},
   "outputs": [],
   "source": [
    "X = df[['Chemotherapy',\n",
    "       'Neoplasm Histologic Grade', 'HER2 Status',\n",
    "       'Lymph nodes examined positive', 'Nottingham prognostic index',\n",
    "       'PR Status', 'Tumor Size', 'Tumor Stage',\n",
    "       'Type of Breast Surgery_MASTECTOMY', 'Type of Breast Surgery_None',\n",
    "        '3-Gene classifier subtype_ER+/HER2- Low Prolif',\n",
    "       '3-Gene classifier subtype_ER-/HER2-',\n",
    "       '3-Gene classifier subtype_HER2+', 'Pam50 + Claudin-low subtype_Her2',\n",
    "       'Pam50 + Claudin-low subtype_LumA', 'Pam50 + Claudin-low subtype_LumB',\n",
    "       'Pam50 + Claudin-low subtype_NC', 'Pam50 + Claudin-low subtype_Normal',\n",
    "       'Pam50 + Claudin-low subtype_claudin-low']]\n",
    "\n",
    "y = df['died_survived']\n",
    "\n",
    "poly = PolynomialFeatures(degree=2, interaction_only=False, include_bias=False)\n",
    "\n",
    "# Fit and transform our X data.\n",
    "X_poly = poly.fit_transform(X)"
   ]
  },
  {
   "cell_type": "code",
   "execution_count": 50,
   "metadata": {},
   "outputs": [
    {
     "data": {
      "text/plain": [
       "(1353, 209)"
      ]
     },
     "execution_count": 50,
     "metadata": {},
     "output_type": "execute_result"
    }
   ],
   "source": [
    "X_poly.shape"
   ]
  },
  {
   "cell_type": "markdown",
   "metadata": {},
   "source": [
    "## Ridge Regression\n",
    "\n",
    "Use a Ridge Regression to highlight highest impacting polynomial engineered feautures to potentially add to the model."
   ]
  },
  {
   "cell_type": "code",
   "execution_count": 51,
   "metadata": {},
   "outputs": [],
   "source": [
    "X_train, X_test, y_train, y_test = train_test_split(\n",
    "    X_poly,\n",
    "    y,\n",
    "    test_size=0.33,\n",
    "    random_state=42\n",
    ")"
   ]
  },
  {
   "cell_type": "code",
   "execution_count": 52,
   "metadata": {},
   "outputs": [],
   "source": [
    "sc = StandardScaler()\n",
    "Z_train = sc.fit_transform(X_train)\n",
    "Z_test = sc.transform(X_test)"
   ]
  },
  {
   "cell_type": "code",
   "execution_count": 53,
   "metadata": {},
   "outputs": [
    {
     "data": {
      "text/plain": [
       "Ridge(alpha=5, copy_X=True, fit_intercept=True, max_iter=None, normalize=False,\n",
       "      random_state=None, solver='auto', tol=0.001)"
      ]
     },
     "execution_count": 53,
     "metadata": {},
     "output_type": "execute_result"
    }
   ],
   "source": [
    "model2 = Ridge(alpha = 5)\n",
    "model2.fit(Z_train, y_train)"
   ]
  },
  {
   "cell_type": "code",
   "execution_count": 54,
   "metadata": {},
   "outputs": [
    {
     "data": {
      "text/plain": [
       "Nottingham prognostic index Pam50 + Claudin-low subtype_LumB    0.231143\n",
       "PR Status Pam50 + Claudin-low subtype_LumB                      0.192186\n",
       "Chemotherapy Pam50 + Claudin-low subtype_Her2                   0.147530\n",
       "Lymph nodes examined positive                                   0.139215\n",
       "Tumor Stage Pam50 + Claudin-low subtype_Normal                  0.113300\n",
       "                                                                  ...   \n",
       "Pam50 + Claudin-low subtype_LumB^2                             -0.106842\n",
       "Nottingham prognostic index Pam50 + Claudin-low subtype_LumA   -0.111347\n",
       "Tumor Stage 3-Gene classifier subtype_ER+/HER2- Low Prolif     -0.115567\n",
       "Chemotherapy Nottingham prognostic index                       -0.148023\n",
       "Neoplasm Histologic Grade Pam50 + Claudin-low subtype_Her2     -0.151322\n",
       "Length: 209, dtype: float64"
      ]
     },
     "execution_count": 54,
     "metadata": {},
     "output_type": "execute_result"
    }
   ],
   "source": [
    "betas = pd.Series(index = poly.get_feature_names(X.columns), \n",
    "                  data = model2.coef_)\n",
    "betas.sort_values(ascending = False)"
   ]
  },
  {
   "cell_type": "markdown",
   "metadata": {},
   "source": [
    "## Feature Engineering"
   ]
  },
  {
   "cell_type": "code",
   "execution_count": 55,
   "metadata": {},
   "outputs": [],
   "source": [
    "df['Nottingham * Claudin-low subtype_LumB'] = df['Nottingham prognostic index'] * df['Pam50 + Claudin-low subtype_LumB']"
   ]
  },
  {
   "cell_type": "code",
   "execution_count": 56,
   "metadata": {},
   "outputs": [],
   "source": [
    "df['PR Status * Claudin-low subtype_LumB'] = df['PR Status'] * df['Pam50 + Claudin-low subtype_LumB']"
   ]
  },
  {
   "cell_type": "code",
   "execution_count": 57,
   "metadata": {},
   "outputs": [],
   "source": [
    "df['Neoplasm * Pam50 + Claudin-low subtype_Her2'] = df['Neoplasm Histologic Grade'] * df['Pam50 + Claudin-low subtype_Her2']"
   ]
  },
  {
   "cell_type": "code",
   "execution_count": 58,
   "metadata": {},
   "outputs": [],
   "source": [
    "df['Chemo * Nottingham'] = df['Chemotherapy'] * df['Nottingham prognostic index']"
   ]
  },
  {
   "cell_type": "code",
   "execution_count": 59,
   "metadata": {
    "scrolled": true
   },
   "outputs": [
    {
     "data": {
      "text/plain": [
       "Index(['Study ID', 'Patient ID', 'Sample ID', 'Cancer Type', 'Chemotherapy',\n",
       "       'Neoplasm Histologic Grade', 'HER2 Status',\n",
       "       'Lymph nodes examined positive', 'Nottingham prognostic index',\n",
       "       'PR Status', 'Tumor Size', 'Tumor Stage', 'Patient's Vital Status',\n",
       "       'Type of Breast Surgery_MASTECTOMY', 'Type of Breast Surgery_None',\n",
       "       'died_survived', '3-Gene classifier subtype_ER+/HER2- Low Prolif',\n",
       "       '3-Gene classifier subtype_ER-/HER2-',\n",
       "       '3-Gene classifier subtype_HER2+', 'Pam50 + Claudin-low subtype_Her2',\n",
       "       'Pam50 + Claudin-low subtype_LumA', 'Pam50 + Claudin-low subtype_LumB',\n",
       "       'Pam50 + Claudin-low subtype_NC', 'Pam50 + Claudin-low subtype_Normal',\n",
       "       'Pam50 + Claudin-low subtype_claudin-low',\n",
       "       'Nottingham * Claudin-low subtype_LumB',\n",
       "       'PR Status * Claudin-low subtype_LumB',\n",
       "       'Neoplasm * Pam50 + Claudin-low subtype_Her2', 'Chemo * Nottingham'],\n",
       "      dtype='object')"
      ]
     },
     "execution_count": 59,
     "metadata": {},
     "output_type": "execute_result"
    }
   ],
   "source": [
    "df.columns"
   ]
  },
  {
   "cell_type": "markdown",
   "metadata": {},
   "source": [
    "# Modeling"
   ]
  },
  {
   "cell_type": "markdown",
   "metadata": {},
   "source": [
    "## Initial Setup"
   ]
  },
  {
   "cell_type": "code",
   "execution_count": 60,
   "metadata": {},
   "outputs": [],
   "source": [
    "X = df[['Chemotherapy',\n",
    "       'Neoplasm Histologic Grade', 'HER2 Status',\n",
    "       'Lymph nodes examined positive', 'Nottingham prognostic index',\n",
    "       'PR Status', 'Tumor Size', 'Tumor Stage',\n",
    "       '3-Gene classifier subtype_ER+/HER2- Low Prolif',\n",
    "       'Pam50 + Claudin-low subtype_Her2',\n",
    "       'Pam50 + Claudin-low subtype_LumA', 'Pam50 + Claudin-low subtype_LumB',\n",
    "       'Nottingham * Claudin-low subtype_LumB',\n",
    "       'PR Status * Claudin-low subtype_LumB',\n",
    "       'Neoplasm * Pam50 + Claudin-low subtype_Her2', \n",
    "        'Chemo * Nottingham']]\n",
    "\n",
    "y = df['died_survived']"
   ]
  },
  {
   "cell_type": "code",
   "execution_count": 61,
   "metadata": {},
   "outputs": [],
   "source": [
    "X_train, X_test, y_train, y_test = train_test_split(X, y, \n",
    "                                                    stratify = y,\n",
    "                                                    random_state = 42)"
   ]
  },
  {
   "cell_type": "code",
   "execution_count": 62,
   "metadata": {},
   "outputs": [
    {
     "data": {
      "text/plain": [
       "0.3385070214338507"
      ]
     },
     "execution_count": 62,
     "metadata": {},
     "output_type": "execute_result"
    }
   ],
   "source": [
    "# Base Model Accuracy\n",
    "y.mean()"
   ]
  },
  {
   "cell_type": "markdown",
   "metadata": {},
   "source": [
    "## Logistic Regression Modeling"
   ]
  },
  {
   "cell_type": "code",
   "execution_count": 63,
   "metadata": {},
   "outputs": [],
   "source": [
    "ss = StandardScaler()\n",
    "lr = LogisticRegression()"
   ]
  },
  {
   "cell_type": "code",
   "execution_count": 64,
   "metadata": {},
   "outputs": [],
   "source": [
    "pipe = Pipeline([\n",
    "    ('ss', ss),\n",
    "    ('lr', lr),\n",
    "])"
   ]
  },
  {
   "cell_type": "code",
   "execution_count": 65,
   "metadata": {},
   "outputs": [
    {
     "name": "stdout",
     "output_type": "stream",
     "text": [
      "0.7080671121299321\n"
     ]
    },
    {
     "data": {
      "text/plain": [
       "{'lr__C': 0.1,\n",
       " 'lr__class_weight': None,\n",
       " 'lr__penalty': 'l2',\n",
       " 'lr__solver': 'liblinear'}"
      ]
     },
     "execution_count": 65,
     "metadata": {},
     "output_type": "execute_result"
    }
   ],
   "source": [
    "params = {\n",
    "    'lr__penalty' : ['l1', 'l2'],\n",
    "    'lr__C' : [.01, .1, 0.5, 0.15],\n",
    "    'lr__class_weight' : ['balanced', None],\n",
    "    'lr__solver' : ['liblinear']\n",
    "}\n",
    "\n",
    "gs_lr = GridSearchCV(pipe, param_grid = params, cv = 5)\n",
    "\n",
    "gs_lr.fit(X_train, y_train)\n",
    "\n",
    "print(gs_lr.best_score_) # cross val score\n",
    "\n",
    "gs_lr.best_params_"
   ]
  },
  {
   "cell_type": "markdown",
   "metadata": {},
   "source": [
    "## LR Performance Analysis"
   ]
  },
  {
   "cell_type": "code",
   "execution_count": 66,
   "metadata": {},
   "outputs": [
    {
     "name": "stdout",
     "output_type": "stream",
     "text": [
      "Train F1 0.444015444015444\n",
      "Test F1 0.44943820224719094\n"
     ]
    }
   ],
   "source": [
    "train_f1 = f1(y_true = y_train, \n",
    "              y_pred = gs_lr.predict(X_train))\n",
    "\n",
    "test_f1 = f1(y_true = y_test,\n",
    "             y_pred = gs_lr.predict(X_test))\n",
    "\n",
    "print(f\"Train F1 {train_f1}\")\n",
    "print(f\"Test F1 {test_f1}\")"
   ]
  },
  {
   "cell_type": "code",
   "execution_count": 67,
   "metadata": {},
   "outputs": [],
   "source": [
    "preds = gs_lr.predict(X_test)"
   ]
  },
  {
   "cell_type": "code",
   "execution_count": 68,
   "metadata": {},
   "outputs": [
    {
     "data": {
      "text/plain": [
       "array([[201,  23],\n",
       "       [ 75,  40]])"
      ]
     },
     "execution_count": 68,
     "metadata": {},
     "output_type": "execute_result"
    }
   ],
   "source": [
    "confusion_matrix(y_test, # True values.\n",
    "                 preds)"
   ]
  },
  {
   "cell_type": "code",
   "execution_count": 69,
   "metadata": {},
   "outputs": [],
   "source": [
    "tn, fp, fn, tp = confusion_matrix(y_test, \n",
    "                                 preds).ravel()"
   ]
  },
  {
   "cell_type": "code",
   "execution_count": 70,
   "metadata": {},
   "outputs": [
    {
     "name": "stdout",
     "output_type": "stream",
     "text": [
      "Specificity: 0.8973\n"
     ]
    }
   ],
   "source": [
    "spec = tn / (tn + fp)\n",
    "\n",
    "# sPec TN / TN + FP\n",
    "\n",
    "print(f'Specificity: {round(spec,4)}')"
   ]
  },
  {
   "cell_type": "code",
   "execution_count": 71,
   "metadata": {},
   "outputs": [
    {
     "name": "stdout",
     "output_type": "stream",
     "text": [
      "Sensitivity: 0.3478\n"
     ]
    }
   ],
   "source": [
    "sens = tp /(tp + fn)\n",
    "\n",
    "print(f'Sensitivity: {round(sens,4)}')"
   ]
  },
  {
   "cell_type": "code",
   "execution_count": 72,
   "metadata": {},
   "outputs": [
    {
     "name": "stdout",
     "output_type": "stream",
     "text": [
      "Accuracy: 0.7109\n"
     ]
    }
   ],
   "source": [
    "accuracy = (tn + tp) / (tn + tp + fn +fp)\n",
    "\n",
    "print(f'Accuracy: {round(accuracy,4)}')"
   ]
  },
  {
   "cell_type": "code",
   "execution_count": 73,
   "metadata": {},
   "outputs": [
    {
     "name": "stdout",
     "output_type": "stream",
     "text": [
      "Precision: 0.6349\n"
     ]
    }
   ],
   "source": [
    "precision = tp / (tp + fp)\n",
    "\n",
    "print(f'Precision: {round(precision, 4)}')"
   ]
  },
  {
   "cell_type": "code",
   "execution_count": 74,
   "metadata": {},
   "outputs": [],
   "source": [
    "pred_proba = [i[1] for i in gs_lr.predict_proba(X_test)]\n",
    "\n",
    "pred_df = pd.DataFrame({'true_values': y_test,\n",
    "                        'pred_probs':pred_proba})"
   ]
  },
  {
   "cell_type": "code",
   "execution_count": 75,
   "metadata": {},
   "outputs": [
    {
     "data": {
      "text/plain": [
       "0.6454774844720497"
      ]
     },
     "execution_count": 75,
     "metadata": {},
     "output_type": "execute_result"
    }
   ],
   "source": [
    "roc_auc_score(pred_df['true_values'],\n",
    "             pred_df['pred_probs'])"
   ]
  },
  {
   "cell_type": "markdown",
   "metadata": {},
   "source": [
    "## KNN Model"
   ]
  },
  {
   "cell_type": "code",
   "execution_count": 76,
   "metadata": {},
   "outputs": [],
   "source": [
    "ss = StandardScaler()\n",
    "knn = KNeighborsClassifier()"
   ]
  },
  {
   "cell_type": "code",
   "execution_count": 77,
   "metadata": {},
   "outputs": [],
   "source": [
    "pipe = Pipeline([\n",
    "    ('ss', ss),\n",
    "    ('knn', knn)\n",
    "])"
   ]
  },
  {
   "cell_type": "code",
   "execution_count": 78,
   "metadata": {},
   "outputs": [
    {
     "name": "stdout",
     "output_type": "stream",
     "text": [
      "0.705126079110374\n"
     ]
    },
    {
     "data": {
      "text/plain": [
       "{'knn__leaf_size': 25,\n",
       " 'knn__n_neighbors': 15,\n",
       " 'knn__p': 1,\n",
       " 'knn__weights': 'uniform'}"
      ]
     },
     "execution_count": 78,
     "metadata": {},
     "output_type": "execute_result"
    }
   ],
   "source": [
    "params = {\n",
    "    'knn__n_neighbors' : [5, 10, 15, 25, 30],\n",
    "    'knn__p' : [1, 2],\n",
    "    'knn__weights' : ['uniform', 'distance'],\n",
    "    'knn__leaf_size' : [25, 30, 35]\n",
    "}\n",
    "\n",
    "gs_knn = GridSearchCV(pipe, param_grid = params, cv = 5)\n",
    "\n",
    "gs_knn.fit(X_train, y_train)\n",
    "\n",
    "print(gs_knn.best_score_) # cross val score\n",
    "\n",
    "gs_knn.best_params_"
   ]
  },
  {
   "cell_type": "markdown",
   "metadata": {},
   "source": [
    "## KNN Performance Analysis"
   ]
  },
  {
   "cell_type": "code",
   "execution_count": 79,
   "metadata": {},
   "outputs": [
    {
     "name": "stdout",
     "output_type": "stream",
     "text": [
      "Train F1 0.4728682170542635\n",
      "Test F1 0.35502958579881655\n"
     ]
    }
   ],
   "source": [
    "train_f1 = f1(y_true = y_train, \n",
    "              y_pred = gs_knn.predict(X_train))\n",
    "\n",
    "test_f1 = f1(y_true = y_test,\n",
    "             y_pred = gs_knn.predict(X_test))\n",
    "\n",
    "print(f\"Train F1 {train_f1}\")\n",
    "print(f\"Test F1 {test_f1}\")"
   ]
  },
  {
   "cell_type": "code",
   "execution_count": 80,
   "metadata": {},
   "outputs": [],
   "source": [
    "preds = gs_knn.predict(X_test)"
   ]
  },
  {
   "cell_type": "code",
   "execution_count": 81,
   "metadata": {},
   "outputs": [
    {
     "data": {
      "text/plain": [
       "array([[200,  24],\n",
       "       [ 85,  30]])"
      ]
     },
     "execution_count": 81,
     "metadata": {},
     "output_type": "execute_result"
    }
   ],
   "source": [
    "confusion_matrix(y_test, # True values.\n",
    "                 preds)"
   ]
  },
  {
   "cell_type": "code",
   "execution_count": 82,
   "metadata": {},
   "outputs": [],
   "source": [
    "tn, fp, fn, tp = confusion_matrix(y_test, \n",
    "                                 preds).ravel()"
   ]
  },
  {
   "cell_type": "code",
   "execution_count": 83,
   "metadata": {},
   "outputs": [
    {
     "name": "stdout",
     "output_type": "stream",
     "text": [
      "Specificity: 0.8929\n"
     ]
    }
   ],
   "source": [
    "spec = tn / (tn + fp)\n",
    "\n",
    "# sPec TN / TN + FP\n",
    "\n",
    "print(f'Specificity: {round(spec,4)}')"
   ]
  },
  {
   "cell_type": "code",
   "execution_count": 84,
   "metadata": {},
   "outputs": [
    {
     "name": "stdout",
     "output_type": "stream",
     "text": [
      "Sensitivity: 0.2609\n"
     ]
    }
   ],
   "source": [
    "sens = tp /(tp + fn)\n",
    "\n",
    "print(f'Sensitivity: {round(sens,4)}')"
   ]
  },
  {
   "cell_type": "code",
   "execution_count": 85,
   "metadata": {},
   "outputs": [
    {
     "name": "stdout",
     "output_type": "stream",
     "text": [
      "Accuracy: 0.6785\n"
     ]
    }
   ],
   "source": [
    "accuracy = (tn + tp) / (tn + tp + fn +fp)\n",
    "\n",
    "print(f'Accuracy: {round(accuracy,4)}')"
   ]
  },
  {
   "cell_type": "code",
   "execution_count": 86,
   "metadata": {},
   "outputs": [
    {
     "name": "stdout",
     "output_type": "stream",
     "text": [
      "Precision: 0.5556\n"
     ]
    }
   ],
   "source": [
    "precision = tp / (tp + fp)\n",
    "\n",
    "print(f'Precision: {round(precision, 4)}')"
   ]
  },
  {
   "cell_type": "code",
   "execution_count": 87,
   "metadata": {},
   "outputs": [],
   "source": [
    "pred_proba = [i[1] for i in gs_knn.predict_proba(X_test)]\n",
    "\n",
    "pred_df = pd.DataFrame({'true_values': y_test,\n",
    "                        'pred_probs':pred_proba})"
   ]
  },
  {
   "cell_type": "code",
   "execution_count": 88,
   "metadata": {},
   "outputs": [
    {
     "data": {
      "text/plain": [
       "0.6192546583850932"
      ]
     },
     "execution_count": 88,
     "metadata": {},
     "output_type": "execute_result"
    }
   ],
   "source": [
    "roc_auc_score(pred_df['true_values'],\n",
    "             pred_df['pred_probs'])"
   ]
  },
  {
   "cell_type": "markdown",
   "metadata": {},
   "source": [
    "## Random Forrest Classifier Model"
   ]
  },
  {
   "cell_type": "code",
   "execution_count": 103,
   "metadata": {},
   "outputs": [],
   "source": [
    "ss = StandardScaler()\n",
    "rfc = RandomForestClassifier()"
   ]
  },
  {
   "cell_type": "code",
   "execution_count": 104,
   "metadata": {},
   "outputs": [],
   "source": [
    "pipe = Pipeline([\n",
    "    ('ss', ss),\n",
    "    ('rfc', rfc),\n",
    "])"
   ]
  },
  {
   "cell_type": "code",
   "execution_count": 105,
   "metadata": {},
   "outputs": [
    {
     "name": "stdout",
     "output_type": "stream",
     "text": [
      "0.6508803589718577\n"
     ]
    },
    {
     "data": {
      "text/plain": [
       "{'rfc__max_features': 'auto', 'rfc__n_estimators': 5}"
      ]
     },
     "execution_count": 105,
     "metadata": {},
     "output_type": "execute_result"
    }
   ],
   "source": [
    "params = {\n",
    "    'rfc__n_estimators' : [1, 2, 3, 5],\n",
    "    'rfc__max_features' : ['auto', 'log2']\n",
    "}\n",
    "\n",
    "gs_rfc = GridSearchCV(pipe, param_grid = params, cv = 5)\n",
    "\n",
    "gs_rfc.fit(X_train, y_train)\n",
    "\n",
    "print(gs_rfc.best_score_) # cross val score\n",
    "\n",
    "gs_rfc.best_params_"
   ]
  },
  {
   "cell_type": "markdown",
   "metadata": {},
   "source": [
    "## Random Forrest Classifier Performance Analysis"
   ]
  },
  {
   "cell_type": "code",
   "execution_count": 106,
   "metadata": {},
   "outputs": [
    {
     "name": "stdout",
     "output_type": "stream",
     "text": [
      "Train F1 0.8773006134969326\n",
      "Test F1 0.48\n"
     ]
    }
   ],
   "source": [
    "train_f1 = f1(y_true = y_train, \n",
    "              y_pred = gs_rfc.predict(X_train))\n",
    "\n",
    "test_f1 = f1(y_true = y_test,\n",
    "             y_pred = gs_rfc.predict(X_test))\n",
    "\n",
    "print(f\"Train F1 {train_f1}\")\n",
    "print(f\"Test F1 {test_f1}\")"
   ]
  },
  {
   "cell_type": "code",
   "execution_count": 107,
   "metadata": {},
   "outputs": [],
   "source": [
    "preds = gs_rfc.predict(X_test)"
   ]
  },
  {
   "cell_type": "code",
   "execution_count": 108,
   "metadata": {},
   "outputs": [
    {
     "data": {
      "text/plain": [
       "array([[168,  56],\n",
       "       [ 61,  54]])"
      ]
     },
     "execution_count": 108,
     "metadata": {},
     "output_type": "execute_result"
    }
   ],
   "source": [
    "confusion_matrix(y_test, # True values.\n",
    "                 preds)"
   ]
  },
  {
   "cell_type": "code",
   "execution_count": 109,
   "metadata": {},
   "outputs": [],
   "source": [
    "tn, fp, fn, tp = confusion_matrix(y_test, \n",
    "                                 preds).ravel()"
   ]
  },
  {
   "cell_type": "code",
   "execution_count": 110,
   "metadata": {},
   "outputs": [
    {
     "name": "stdout",
     "output_type": "stream",
     "text": [
      "Specificity: 0.75\n"
     ]
    }
   ],
   "source": [
    "spec = tn / (tn + fp)\n",
    "\n",
    "# sPec TN / TN + FP\n",
    "\n",
    "print(f'Specificity: {round(spec,4)}')"
   ]
  },
  {
   "cell_type": "code",
   "execution_count": 111,
   "metadata": {},
   "outputs": [
    {
     "name": "stdout",
     "output_type": "stream",
     "text": [
      "Sensitivity: 0.4696\n"
     ]
    }
   ],
   "source": [
    "sens = tp /(tp + fn)\n",
    "\n",
    "print(f'Sensitivity: {round(sens,4)}')"
   ]
  },
  {
   "cell_type": "code",
   "execution_count": 112,
   "metadata": {},
   "outputs": [
    {
     "name": "stdout",
     "output_type": "stream",
     "text": [
      "Accuracy: 0.6549\n"
     ]
    }
   ],
   "source": [
    "accuracy = (tn + tp) / (tn + tp + fn +fp)\n",
    "\n",
    "print(f'Accuracy: {round(accuracy,4)}')"
   ]
  },
  {
   "cell_type": "code",
   "execution_count": 113,
   "metadata": {},
   "outputs": [
    {
     "name": "stdout",
     "output_type": "stream",
     "text": [
      "Precision: 0.4909\n"
     ]
    }
   ],
   "source": [
    "precision = tp / (tp + fp)\n",
    "\n",
    "print(f'Precision: {round(precision, 4)}')"
   ]
  },
  {
   "cell_type": "code",
   "execution_count": 114,
   "metadata": {},
   "outputs": [],
   "source": [
    "pred_proba = [i[1] for i in gs_rfc.predict_proba(X_test)]\n",
    "\n",
    "pred_df = pd.DataFrame({'true_values': y_test,\n",
    "                        'pred_probs':pred_proba})"
   ]
  },
  {
   "cell_type": "code",
   "execution_count": 115,
   "metadata": {},
   "outputs": [
    {
     "data": {
      "text/plain": [
       "0.5996506211180124"
      ]
     },
     "execution_count": 115,
     "metadata": {},
     "output_type": "execute_result"
    }
   ],
   "source": [
    "roc_auc_score(pred_df['true_values'],\n",
    "             pred_df['pred_probs'])"
   ]
  },
  {
   "cell_type": "markdown",
   "metadata": {},
   "source": [
    "## Support Vector Classifier Model"
   ]
  },
  {
   "cell_type": "code",
   "execution_count": 104,
   "metadata": {},
   "outputs": [],
   "source": [
    "ss = StandardScaler()\n",
    "svc = SVC()"
   ]
  },
  {
   "cell_type": "code",
   "execution_count": 105,
   "metadata": {},
   "outputs": [],
   "source": [
    "pipe = Pipeline([\n",
    "    ('ss', ss),\n",
    "    ('svc', svc)\n",
    "])"
   ]
  },
  {
   "cell_type": "code",
   "execution_count": 106,
   "metadata": {},
   "outputs": [
    {
     "name": "stdout",
     "output_type": "stream",
     "text": [
      "0.7001853387309176\n"
     ]
    },
    {
     "data": {
      "text/plain": [
       "{'svc__C': 0.7, 'svc__kernel': 'rbf', 'svc__probability': True}"
      ]
     },
     "execution_count": 106,
     "metadata": {},
     "output_type": "execute_result"
    }
   ],
   "source": [
    "params = {\n",
    "    'svc__C' : [0.2, 0.5, 0.7, 0.8, 1],\n",
    "    'svc__kernel' : ['linear', 'rbf', 'poly'],\n",
    "    'svc__probability' : [True]\n",
    "}\n",
    "\n",
    "gs_svc = GridSearchCV(pipe, param_grid = params, cv = 5)\n",
    "\n",
    "gs_svc.fit(X_train, y_train)\n",
    "\n",
    "print(gs_svc.best_score_) # cross val score\n",
    "\n",
    "gs_svc.best_params_"
   ]
  },
  {
   "cell_type": "markdown",
   "metadata": {},
   "source": [
    "## Support Vector Classification Perfomance Analysis"
   ]
  },
  {
   "cell_type": "code",
   "execution_count": 107,
   "metadata": {},
   "outputs": [
    {
     "name": "stdout",
     "output_type": "stream",
     "text": [
      "Train F1 0.45621181262729127\n",
      "Test F1 0.40935672514619886\n"
     ]
    }
   ],
   "source": [
    "train_f1 = f1(y_true = y_train, \n",
    "              y_pred = gs_svc.predict(X_train))\n",
    "\n",
    "test_f1 = f1(y_true = y_test,\n",
    "             y_pred = gs_svc.predict(X_test))\n",
    "\n",
    "print(f\"Train F1 {train_f1}\")\n",
    "print(f\"Test F1 {test_f1}\")"
   ]
  },
  {
   "cell_type": "code",
   "execution_count": 108,
   "metadata": {},
   "outputs": [],
   "source": [
    "svc_preds = gs_svc.predict(X_test)"
   ]
  },
  {
   "cell_type": "code",
   "execution_count": 109,
   "metadata": {},
   "outputs": [
    {
     "data": {
      "text/plain": [
       "array([[203,  21],\n",
       "       [ 80,  35]])"
      ]
     },
     "execution_count": 109,
     "metadata": {},
     "output_type": "execute_result"
    }
   ],
   "source": [
    "confusion_matrix(y_test,\n",
    "                 svc_preds)"
   ]
  },
  {
   "cell_type": "code",
   "execution_count": 110,
   "metadata": {},
   "outputs": [],
   "source": [
    "tn, fp, fn, tp = confusion_matrix(y_test, \n",
    "                                 svc_preds).ravel()"
   ]
  },
  {
   "cell_type": "code",
   "execution_count": 111,
   "metadata": {},
   "outputs": [
    {
     "name": "stdout",
     "output_type": "stream",
     "text": [
      "Specificity: 0.9062\n"
     ]
    }
   ],
   "source": [
    "spec = tn / (tn + fp)\n",
    "\n",
    "# sPec TN / TN + FP\n",
    "\n",
    "print(f'Specificity: {round(spec,4)}')"
   ]
  },
  {
   "cell_type": "code",
   "execution_count": 112,
   "metadata": {},
   "outputs": [
    {
     "name": "stdout",
     "output_type": "stream",
     "text": [
      "Sensitivity: 0.3043\n"
     ]
    }
   ],
   "source": [
    "sens = tp /(tp + fn)\n",
    "\n",
    "print(f'Sensitivity: {round(sens,4)}')"
   ]
  },
  {
   "cell_type": "code",
   "execution_count": 113,
   "metadata": {},
   "outputs": [
    {
     "name": "stdout",
     "output_type": "stream",
     "text": [
      "Accuracy: 0.7021\n"
     ]
    }
   ],
   "source": [
    "accuracy = (tn + tp) / (tn + tp + fn +fp)\n",
    "\n",
    "print(f'Accuracy: {round(accuracy,4)}')"
   ]
  },
  {
   "cell_type": "code",
   "execution_count": 114,
   "metadata": {},
   "outputs": [
    {
     "name": "stdout",
     "output_type": "stream",
     "text": [
      "Precision: 0.625\n"
     ]
    }
   ],
   "source": [
    "precision = tp / (tp + fp)\n",
    "\n",
    "print(f'Precision: {round(precision, 4)}')"
   ]
  },
  {
   "cell_type": "code",
   "execution_count": 115,
   "metadata": {},
   "outputs": [],
   "source": [
    "pred_proba = [i[1] for i in gs_svc.predict_proba(X_test)]\n",
    "\n",
    "pred_df = pd.DataFrame({'true_values': y_test,\n",
    "                        'pred_probs':pred_proba})"
   ]
  },
  {
   "cell_type": "code",
   "execution_count": 116,
   "metadata": {
    "scrolled": true
   },
   "outputs": [
    {
     "data": {
      "text/plain": [
       "0.6245535714285714"
      ]
     },
     "execution_count": 116,
     "metadata": {},
     "output_type": "execute_result"
    }
   ],
   "source": [
    "roc_auc_score(pred_df['true_values'],\n",
    "             pred_df['pred_probs'])"
   ]
  },
  {
   "cell_type": "markdown",
   "metadata": {},
   "source": [
    "## Decsion Tree Modeling"
   ]
  },
  {
   "cell_type": "code",
   "execution_count": 117,
   "metadata": {},
   "outputs": [],
   "source": [
    "ss = StandardScaler()\n",
    "dtc = DecisionTreeClassifier()"
   ]
  },
  {
   "cell_type": "code",
   "execution_count": 118,
   "metadata": {},
   "outputs": [],
   "source": [
    "pipe = Pipeline([\n",
    "    ('ss', ss),\n",
    "    ('dtc', dtc)\n",
    "    ])"
   ]
  },
  {
   "cell_type": "code",
   "execution_count": 119,
   "metadata": {},
   "outputs": [
    {
     "name": "stdout",
     "output_type": "stream",
     "text": [
      "0.6814271082280642\n"
     ]
    },
    {
     "data": {
      "text/plain": [
       "{'dtc__ccp_alpha': 0.01,\n",
       " 'dtc__criterion': 'entropy',\n",
       " 'dtc__min_samples_split': 3,\n",
       " 'dtc__splitter': 'random'}"
      ]
     },
     "execution_count": 119,
     "metadata": {},
     "output_type": "execute_result"
    }
   ],
   "source": [
    "params = {\n",
    "    'dtc__criterion' : ['gini', 'entropy'],\n",
    "    'dtc__splitter' : ['best', 'random'],\n",
    "    'dtc__min_samples_split' : [2, 3, 4],\n",
    "    'dtc__ccp_alpha' : [0, 0.01, 0.05, 0.1]\n",
    "}\n",
    "\n",
    "gs_dtc = GridSearchCV(pipe, param_grid = params, cv = 5)\n",
    "\n",
    "gs_dtc.fit(X_train, y_train)\n",
    "\n",
    "print(gs_dtc.best_score_) # cross val score\n",
    "\n",
    "gs_dtc.best_params_"
   ]
  },
  {
   "cell_type": "markdown",
   "metadata": {},
   "source": [
    "## Decision Tree Perfomance Accuracy"
   ]
  },
  {
   "cell_type": "code",
   "execution_count": 120,
   "metadata": {},
   "outputs": [
    {
     "name": "stdout",
     "output_type": "stream",
     "text": [
      "Train F1 0.4909983633387888\n",
      "Test F1 0.4041450777202072\n"
     ]
    }
   ],
   "source": [
    "train_f1 = f1(y_true = y_train, \n",
    "              y_pred = gs_dtc.predict(X_train))\n",
    "\n",
    "test_f1 = f1(y_true = y_test,\n",
    "             y_pred = gs_dtc.predict(X_test))\n",
    "\n",
    "print(f\"Train F1 {train_f1}\")\n",
    "print(f\"Test F1 {test_f1}\")"
   ]
  },
  {
   "cell_type": "code",
   "execution_count": 121,
   "metadata": {},
   "outputs": [],
   "source": [
    "preds = gs_dtc.predict(X_test)"
   ]
  },
  {
   "cell_type": "code",
   "execution_count": 122,
   "metadata": {},
   "outputs": [
    {
     "data": {
      "text/plain": [
       "array([[185,  39],\n",
       "       [ 76,  39]])"
      ]
     },
     "execution_count": 122,
     "metadata": {},
     "output_type": "execute_result"
    }
   ],
   "source": [
    "confusion_matrix(y_test, # True values.\n",
    "                 preds)"
   ]
  },
  {
   "cell_type": "code",
   "execution_count": 123,
   "metadata": {},
   "outputs": [],
   "source": [
    "tn, fp, fn, tp = confusion_matrix(y_test, \n",
    "                                 preds).ravel()"
   ]
  },
  {
   "cell_type": "code",
   "execution_count": 124,
   "metadata": {},
   "outputs": [
    {
     "name": "stdout",
     "output_type": "stream",
     "text": [
      "Specificity: 0.8259\n"
     ]
    }
   ],
   "source": [
    "spec = tn / (tn + fp)\n",
    "\n",
    "# sPec TN / TN + FP\n",
    "\n",
    "print(f'Specificity: {round(spec,4)}')"
   ]
  },
  {
   "cell_type": "code",
   "execution_count": 125,
   "metadata": {},
   "outputs": [
    {
     "name": "stdout",
     "output_type": "stream",
     "text": [
      "Sensitivity: 0.3391\n"
     ]
    }
   ],
   "source": [
    "sens = tp /(tp + fn)\n",
    "\n",
    "print(f'Sensitivity: {round(sens,4)}')"
   ]
  },
  {
   "cell_type": "code",
   "execution_count": 126,
   "metadata": {},
   "outputs": [
    {
     "name": "stdout",
     "output_type": "stream",
     "text": [
      "Accuracy: 0.6608\n"
     ]
    }
   ],
   "source": [
    "accuracy = (tn + tp) / (tn + tp + fn +fp)\n",
    "\n",
    "print(f'Accuracy: {round(accuracy,4)}')"
   ]
  },
  {
   "cell_type": "code",
   "execution_count": 127,
   "metadata": {},
   "outputs": [
    {
     "name": "stdout",
     "output_type": "stream",
     "text": [
      "Precision: 0.5\n"
     ]
    }
   ],
   "source": [
    "precision = tp / (tp + fp)\n",
    "\n",
    "print(f'Precision: {round(precision, 4)}')"
   ]
  },
  {
   "cell_type": "code",
   "execution_count": 128,
   "metadata": {},
   "outputs": [],
   "source": [
    "pred_proba = [i[1] for i in gs_dtc.predict_proba(X_test)]\n",
    "\n",
    "pred_df = pd.DataFrame({'true_values': y_test,\n",
    "                        'pred_probs':pred_proba})"
   ]
  },
  {
   "cell_type": "code",
   "execution_count": 129,
   "metadata": {},
   "outputs": [
    {
     "data": {
      "text/plain": [
       "0.6135675465838509"
      ]
     },
     "execution_count": 129,
     "metadata": {},
     "output_type": "execute_result"
    }
   ],
   "source": [
    "roc_auc_score(pred_df['true_values'],\n",
    "             pred_df['pred_probs'])"
   ]
  },
  {
   "cell_type": "markdown",
   "metadata": {},
   "source": [
    "## Bagging Classifier Modeling"
   ]
  },
  {
   "cell_type": "code",
   "execution_count": 130,
   "metadata": {},
   "outputs": [],
   "source": [
    "ss = StandardScaler()\n",
    "bc = BaggingClassifier()"
   ]
  },
  {
   "cell_type": "code",
   "execution_count": 131,
   "metadata": {},
   "outputs": [],
   "source": [
    "pipe = Pipeline([\n",
    "    ('ss', ss),\n",
    "    ('bc', bc)\n",
    "])"
   ]
  },
  {
   "cell_type": "code",
   "execution_count": 132,
   "metadata": {},
   "outputs": [
    {
     "name": "stdout",
     "output_type": "stream",
     "text": [
      "0.6853679949275716\n"
     ]
    },
    {
     "data": {
      "text/plain": [
       "{'bc__max_features': 5, 'bc__max_samples': 4, 'bc__n_estimators': 15}"
      ]
     },
     "execution_count": 132,
     "metadata": {},
     "output_type": "execute_result"
    }
   ],
   "source": [
    "params = {\n",
    "    'bc__n_estimators' : [5, 10, 15],\n",
    "    'bc__max_samples' : [1, 2, 3, 4, 5],\n",
    "    'bc__max_features' : [1, 2, 3, 4, 5],\n",
    "    \n",
    "}\n",
    "\n",
    "gs_bc = GridSearchCV(pipe, param_grid = params, cv = 5)\n",
    "\n",
    "gs_bc.fit(X_train, y_train)\n",
    "\n",
    "print(gs_bc.best_score_) # cross val score\n",
    "\n",
    "gs_bc.best_params_"
   ]
  },
  {
   "cell_type": "markdown",
   "metadata": {},
   "source": [
    "## Bagging Classifier Performance Analysis"
   ]
  },
  {
   "cell_type": "code",
   "execution_count": 133,
   "metadata": {},
   "outputs": [
    {
     "name": "stdout",
     "output_type": "stream",
     "text": [
      "Train F1 0.5221238938053098\n",
      "Test F1 0.4595744680851064\n"
     ]
    }
   ],
   "source": [
    "train_f1 = f1(y_true = y_train, \n",
    "              y_pred = gs_bc.predict(X_train))\n",
    "\n",
    "test_f1 = f1(y_true = y_test,\n",
    "             y_pred = gs_bc.predict(X_test))\n",
    "\n",
    "print(f\"Train F1 {train_f1}\")\n",
    "print(f\"Test F1 {test_f1}\")"
   ]
  },
  {
   "cell_type": "code",
   "execution_count": 134,
   "metadata": {},
   "outputs": [],
   "source": [
    "preds = gs_bc.predict(X_test)"
   ]
  },
  {
   "cell_type": "code",
   "execution_count": 135,
   "metadata": {},
   "outputs": [
    {
     "data": {
      "text/plain": [
       "array([[158,  66],\n",
       "       [ 61,  54]])"
      ]
     },
     "execution_count": 135,
     "metadata": {},
     "output_type": "execute_result"
    }
   ],
   "source": [
    "confusion_matrix(y_test, # True values.\n",
    "                 preds)"
   ]
  },
  {
   "cell_type": "code",
   "execution_count": 136,
   "metadata": {},
   "outputs": [],
   "source": [
    "tn, fp, fn, tp = confusion_matrix(y_test, \n",
    "                                 preds).ravel()"
   ]
  },
  {
   "cell_type": "code",
   "execution_count": 137,
   "metadata": {},
   "outputs": [
    {
     "name": "stdout",
     "output_type": "stream",
     "text": [
      "Specificity: 0.7054\n"
     ]
    }
   ],
   "source": [
    "spec = tn / (tn + fp)\n",
    "\n",
    "# sPec TN / TN + FP\n",
    "\n",
    "print(f'Specificity: {round(spec,4)}')"
   ]
  },
  {
   "cell_type": "code",
   "execution_count": 138,
   "metadata": {},
   "outputs": [
    {
     "name": "stdout",
     "output_type": "stream",
     "text": [
      "Sensitivity: 0.4696\n"
     ]
    }
   ],
   "source": [
    "sens = tp /(tp + fn)\n",
    "\n",
    "print(f'Sensitivity: {round(sens,4)}')"
   ]
  },
  {
   "cell_type": "code",
   "execution_count": 139,
   "metadata": {},
   "outputs": [
    {
     "name": "stdout",
     "output_type": "stream",
     "text": [
      "Accuracy: 0.6254\n"
     ]
    }
   ],
   "source": [
    "accuracy = (tn + tp) / (tn + tp + fn +fp)\n",
    "\n",
    "print(f'Accuracy: {round(accuracy,4)}')"
   ]
  },
  {
   "cell_type": "code",
   "execution_count": 140,
   "metadata": {},
   "outputs": [
    {
     "name": "stdout",
     "output_type": "stream",
     "text": [
      "Precision: 0.45\n"
     ]
    }
   ],
   "source": [
    "precision = tp / (tp + fp)\n",
    "\n",
    "print(f'Precision: {round(precision, 4)}')"
   ]
  },
  {
   "cell_type": "code",
   "execution_count": 141,
   "metadata": {},
   "outputs": [],
   "source": [
    "pred_proba = [i[1] for i in gs_bc.predict_proba(X_test)]\n",
    "\n",
    "pred_df = pd.DataFrame({'true_values': y_test,\n",
    "                        'pred_probs':pred_proba})"
   ]
  },
  {
   "cell_type": "code",
   "execution_count": 142,
   "metadata": {},
   "outputs": [
    {
     "data": {
      "text/plain": [
       "0.6354037267080745"
      ]
     },
     "execution_count": 142,
     "metadata": {},
     "output_type": "execute_result"
    }
   ],
   "source": [
    "roc_auc_score(pred_df['true_values'],\n",
    "             pred_df['pred_probs'])"
   ]
  },
  {
   "cell_type": "markdown",
   "metadata": {},
   "source": [
    "## AdaBoost Modeling"
   ]
  },
  {
   "cell_type": "code",
   "execution_count": 143,
   "metadata": {},
   "outputs": [],
   "source": [
    "ss = StandardScaler()\n",
    "abc = AdaBoostClassifier()"
   ]
  },
  {
   "cell_type": "code",
   "execution_count": 144,
   "metadata": {},
   "outputs": [],
   "source": [
    "pipe_abc = Pipeline([\n",
    "    ('ss', ss),\n",
    "    ('abc', bc)\n",
    "])\n",
    "\n",
    "pipe_abc.fit(X_train, y_train);"
   ]
  },
  {
   "cell_type": "markdown",
   "metadata": {},
   "source": [
    "## AdaBoost Perfromance Analysis"
   ]
  },
  {
   "cell_type": "code",
   "execution_count": 145,
   "metadata": {},
   "outputs": [
    {
     "name": "stdout",
     "output_type": "stream",
     "text": [
      "Train F1 0.8946564885496183\n",
      "Test F1 0.4054054054054054\n"
     ]
    }
   ],
   "source": [
    "train_f1 = f1(y_true = y_train, \n",
    "              y_pred = pipe_abc.predict(X_train))\n",
    "\n",
    "test_f1 = f1(y_true = y_test,\n",
    "             y_pred = pipe_abc.predict(X_test))\n",
    "\n",
    "print(f\"Train F1 {train_f1}\")\n",
    "print(f\"Test F1 {test_f1}\")"
   ]
  },
  {
   "cell_type": "code",
   "execution_count": 146,
   "metadata": {},
   "outputs": [],
   "source": [
    "preds = pipe_abc.predict(X_test)"
   ]
  },
  {
   "cell_type": "code",
   "execution_count": 147,
   "metadata": {},
   "outputs": [
    {
     "data": {
      "text/plain": [
       "array([[162,  62],\n",
       "       [ 70,  45]])"
      ]
     },
     "execution_count": 147,
     "metadata": {},
     "output_type": "execute_result"
    }
   ],
   "source": [
    "confusion_matrix(y_test, # True values.\n",
    "                 preds)"
   ]
  },
  {
   "cell_type": "code",
   "execution_count": 148,
   "metadata": {},
   "outputs": [],
   "source": [
    "tn, fp, fn, tp = confusion_matrix(y_test, \n",
    "                                 preds).ravel()"
   ]
  },
  {
   "cell_type": "code",
   "execution_count": 149,
   "metadata": {},
   "outputs": [
    {
     "name": "stdout",
     "output_type": "stream",
     "text": [
      "Specificity: 0.7232\n"
     ]
    }
   ],
   "source": [
    "spec = tn / (tn + fp)\n",
    "\n",
    "# sPec TN / TN + FP\n",
    "\n",
    "print(f'Specificity: {round(spec,4)}')"
   ]
  },
  {
   "cell_type": "code",
   "execution_count": 150,
   "metadata": {},
   "outputs": [
    {
     "name": "stdout",
     "output_type": "stream",
     "text": [
      "Sensitivity: 0.3913\n"
     ]
    }
   ],
   "source": [
    "sens = tp /(tp + fn)\n",
    "\n",
    "print(f'Sensitivity: {round(sens,4)}')"
   ]
  },
  {
   "cell_type": "code",
   "execution_count": 151,
   "metadata": {},
   "outputs": [
    {
     "name": "stdout",
     "output_type": "stream",
     "text": [
      "Accuracy: 0.6106\n"
     ]
    }
   ],
   "source": [
    "accuracy = (tn + tp) / (tn + tp + fn +fp)\n",
    "\n",
    "print(f'Accuracy: {round(accuracy,4)}')"
   ]
  },
  {
   "cell_type": "code",
   "execution_count": 152,
   "metadata": {},
   "outputs": [
    {
     "name": "stdout",
     "output_type": "stream",
     "text": [
      "Precision: 0.4206\n"
     ]
    }
   ],
   "source": [
    "precision = tp / (tp + fp)\n",
    "\n",
    "print(f'Precision: {round(precision, 4)}')"
   ]
  },
  {
   "cell_type": "code",
   "execution_count": 153,
   "metadata": {},
   "outputs": [],
   "source": [
    "pred_proba = [i[1] for i in pipe_abc.predict_proba(X_test)]\n",
    "\n",
    "pred_df = pd.DataFrame({'true_values': y_test,\n",
    "                        'pred_probs':pred_proba})"
   ]
  },
  {
   "cell_type": "code",
   "execution_count": 154,
   "metadata": {},
   "outputs": [
    {
     "data": {
      "text/plain": [
       "0.5886840062111801"
      ]
     },
     "execution_count": 154,
     "metadata": {},
     "output_type": "execute_result"
    }
   ],
   "source": [
    "roc_auc_score(pred_df['true_values'],\n",
    "             pred_df['pred_probs'])"
   ]
  },
  {
   "cell_type": "markdown",
   "metadata": {},
   "source": [
    "## Neural Network"
   ]
  },
  {
   "cell_type": "code",
   "execution_count": 179,
   "metadata": {},
   "outputs": [],
   "source": [
    "ss = StandardScaler()\n",
    "X_train_sc = ss.fit_transform(X_train)\n",
    "X_test_sc = ss.transform(X_test)"
   ]
  },
  {
   "cell_type": "code",
   "execution_count": 180,
   "metadata": {},
   "outputs": [
    {
     "data": {
      "text/plain": [
       "(1014, 16)"
      ]
     },
     "execution_count": 180,
     "metadata": {},
     "output_type": "execute_result"
    }
   ],
   "source": [
    "X_train_sc.shape"
   ]
  },
  {
   "cell_type": "code",
   "execution_count": 181,
   "metadata": {},
   "outputs": [],
   "source": [
    "model = Sequential()\n",
    "#First hidden layer\n",
    "model.add(Dense(32,\n",
    "                activation='relu',\n",
    "                input_shape=(16,)))\n",
    "\n",
    "# econd hidden layer\n",
    "model.add(Dense(32,\n",
    "                activation='relu'))\n",
    "\n",
    "# Output layer, DEPENDS on what you're predicting\n",
    "# For binary classification\n",
    "# 1 neuron, sigmoid fn\n",
    "model.add(Dense(1, activation='sigmoid'))"
   ]
  },
  {
   "cell_type": "code",
   "execution_count": 182,
   "metadata": {},
   "outputs": [],
   "source": [
    "model.compile(optimizer='adam', \n",
    "              loss='binary_crossentropy', \n",
    "              metrics=['accuracy'])"
   ]
  },
  {
   "cell_type": "code",
   "execution_count": 183,
   "metadata": {},
   "outputs": [],
   "source": [
    "hist = model.fit(X_train_sc, y_train,\n",
    "                     epochs=30,\n",
    "                     batch_size=518,\n",
    "                     validation_data=(X_test_sc, y_test),\n",
    "                verbose = 0)"
   ]
  },
  {
   "cell_type": "code",
   "execution_count": 184,
   "metadata": {},
   "outputs": [
    {
     "data": {
      "image/png": "[encoded data removed]",
      "text/plain": [
       "<Figure size 432x288 with 1 Axes>"
      ]
     },
     "metadata": {
      "needs_background": "light"
     },
     "output_type": "display_data"
    }
   ],
   "source": [
    "plt.plot(hist.history['accuracy'], label = 'Train Accuracy')\n",
    "plt.plot(hist.history['val_accuracy'], label = 'Test Accuracy')\n",
    "plt.legend();"
   ]
  },
  {
   "cell_type": "code",
   "execution_count": null,
   "metadata": {},
   "outputs": [],
   "source": []
  }
 ],
 "metadata": {
  "kernelspec": {
   "display_name": "Python 3",
   "language": "python",
   "name": "python3"
  },
  "language_info": {
   "codemirror_mode": {
    "name": "ipython",
    "version": 3
   },
   "file_extension": ".py",
   "mimetype": "text/x-python",
   "name": "python",
   "nbconvert_exporter": "python",
   "pygments_lexer": "ipython3",
   "version": "3.7.3"
  },
  "toc": {
   "base_numbering": 1,
   "nav_menu": {},
   "number_sections": true,
   "sideBar": true,
   "skip_h1_title": false,
   "title_cell": "Table of Contents",
   "title_sidebar": "Contents",
   "toc_cell": true,
   "toc_position": {},
   "toc_section_display": true,
   "toc_window_display": true
  }
 },
 "nbformat": 4,
 "nbformat_minor": 2
}
